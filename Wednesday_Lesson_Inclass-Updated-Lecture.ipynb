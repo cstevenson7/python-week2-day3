{
 "cells": [
  {
   "cell_type": "markdown",
   "metadata": {},
   "source": [
    "# Data Collections 2 (Dictionaries, Sets) and Importing Modules & Basic Algorithms"
   ]
  },
  {
   "cell_type": "markdown",
   "metadata": {},
   "source": [
    "## Tasks Today:\n",
    "\n",
    "1) Dictionary <br>\n",
    " &nbsp;&nbsp;&nbsp;&nbsp; a) Declaring (key, value) <br>\n",
    " &nbsp;&nbsp;&nbsp;&nbsp; b) Accessing Values <br>\n",
    " &nbsp;&nbsp;&nbsp;&nbsp; ------ Exercise #1 - Print the eye color of each person in a double nested dict <br>\n",
    " &nbsp;&nbsp;&nbsp;&nbsp; c) Adding New Pairs <br>\n",
    " &nbsp;&nbsp;&nbsp;&nbsp; d) Modifying Values <br>\n",
    " &nbsp;&nbsp;&nbsp;&nbsp; e) Removing Key, Value Pairs <br>\n",
    " &nbsp;&nbsp;&nbsp;&nbsp; f) Looping a Dictionary <br>\n",
    " &nbsp;&nbsp;&nbsp;&nbsp; g) Looping Only Keys <br>\n",
    " &nbsp;&nbsp;&nbsp;&nbsp; h) Looping Only Values <br>\n",
    " &nbsp;&nbsp;&nbsp;&nbsp; ------ Exercise #2 - Create a Function that Prints All Key Value Pairs within a print .format()  <br>\n",
    " &nbsp;&nbsp;&nbsp;&nbsp; i) sorted() <br>\n",
    " &nbsp;&nbsp;&nbsp;&nbsp; j) Lists with Dictionaries <br>\n",
    " &nbsp;&nbsp;&nbsp;&nbsp; k) Dictionaries with Lists <br>\n",
    " &nbsp;&nbsp;&nbsp;&nbsp; l) Dictionaries with Dictionaries <br>\n",
    "2) Hashing & Big 'O' Notation <br>\n",
    " &nbsp;&nbsp;&nbsp;&nbsp; ------ Exercise #3 - Write a Function that asks someone's name and address, and then stores that into a dictionary, which prints all names and addresses after they're done putting information in...  <br>\n",
    "3) Dictionaries vs. Lists (over time)<br>\n",
    "4) Set <br>\n",
    " &nbsp;&nbsp;&nbsp;&nbsp; a) Declaring <br>\n",
    " &nbsp;&nbsp;&nbsp;&nbsp; b) .add() <br>\n",
    " &nbsp;&nbsp;&nbsp;&nbsp; c) .remove() <br>\n",
    " &nbsp;&nbsp;&nbsp;&nbsp; d) .union() <br>\n",
    " &nbsp;&nbsp;&nbsp;&nbsp; e) .intersection() <br>\n",
    " &nbsp;&nbsp;&nbsp;&nbsp; f) .difference() <br>\n",
    " &nbsp;&nbsp;&nbsp;&nbsp; g) Frozen Set <br>\n",
    "5) Modules <br>\n",
    " &nbsp;&nbsp;&nbsp;&nbsp; a) Importing Entire Modules <br>\n",
    " &nbsp;&nbsp;&nbsp;&nbsp; b) Importing Methods Only <br>\n",
    " &nbsp;&nbsp;&nbsp;&nbsp; c) Using the 'as' Keyword <br>\n",
    " &nbsp;&nbsp;&nbsp;&nbsp; d) Creating a Module <br>\n",
    "6) Exercises <br>\n",
    " &nbsp;&nbsp;&nbsp;&nbsp; a) Build a Shopping Cart <br>\n",
    " &nbsp;&nbsp;&nbsp;&nbsp; b) Create Your Own Module <br>"
   ]
  },
  {
   "cell_type": "markdown",
   "metadata": {},
   "source": [
    "## Dictionary <br>\n",
    "<p>A collection of data with 'key:value' pairs. Dictionaries are ordered as of Python 3.6</p>"
   ]
  },
  {
   "cell_type": "markdown",
   "metadata": {},
   "source": [
    "##### Declaring (key, value)"
   ]
  },
  {
   "cell_type": "code",
   "execution_count": null,
   "metadata": {},
   "outputs": [],
   "source": [
    "# key: value pairs\n",
    "# keys should be unique they can be numbers or strings\n",
    "\n",
    "d = {} # Empty dictionary\n",
    "# PEN 8 std\n",
    "d2 = {\n",
    "    'bob': '123 st',\n",
    "    'dave':'225 Main Street',\n",
    "    'sean': '522 1st Street',\n",
    "     0:\"this is a value for a key of 0\"\n",
    "}"
   ]
  },
  {
   "cell_type": "markdown",
   "metadata": {},
   "source": [
    "##### Accessing Values"
   ]
  },
  {
   "cell_type": "code",
   "execution_count": null,
   "metadata": {},
   "outputs": [],
   "source": [
    "d2['dave']\n",
    "\n",
    "d2[0] ##THIS IS NOT AN INDEX - this is calling the value for the key Dave\n",
    "\n",
    "#A KEY ERROR  MEANS there is no KEY \n",
    "#i.e.\n",
    "#d2['cindy']"
   ]
  },
  {
   "cell_type": "markdown",
   "metadata": {},
   "source": [
    "## In-Class Exercise #1 - Print a formatted statement from the dictionary below <br>\n",
    "<p>The output should be '2018 Chevrolet Silverado'</p>"
   ]
  },
  {
   "cell_type": "code",
   "execution_count": null,
   "metadata": {},
   "outputs": [],
   "source": [
    "# use the dict below\n",
    "truck = {\n",
    "    'year': 2018,\n",
    "    'make': 'Chevrolet',\n",
    "    'model': 'Silverado'\n",
    "}\n",
    "\n",
    "print(f\"{truck['year']} {truck['make']} {truck['model']}\")\n",
    "\n"
   ]
  },
  {
   "cell_type": "markdown",
   "metadata": {},
   "source": [
    "##### Adding New Pairs"
   ]
  },
  {
   "cell_type": "code",
   "execution_count": null,
   "metadata": {},
   "outputs": [],
   "source": [
    "# get the dictionary \n",
    "d2['bob'] = \"151 Main Street\"\n",
    "   \n",
    "d2"
   ]
  },
  {
   "cell_type": "markdown",
   "metadata": {},
   "source": [
    "##### Modifying Values"
   ]
  },
  {
   "cell_type": "code",
   "execution_count": null,
   "metadata": {},
   "outputs": [],
   "source": [
    "#make changes to dic\n",
    "test = d2['bob']\n",
    "#dict[key] = new value\n",
    "\n",
    "d2['bob'] = test + 'Chicago, Il' # this is concatenating chicogo on to address"
   ]
  },
  {
   "cell_type": "markdown",
   "metadata": {},
   "source": [
    "##### Removing Key, Value Pairs"
   ]
  },
  {
   "cell_type": "code",
   "execution_count": null,
   "metadata": {},
   "outputs": [],
   "source": [
    "#del dict[key]\n",
    "del d2['bob']\n",
    "\n",
    "d2"
   ]
  },
  {
   "cell_type": "markdown",
   "metadata": {},
   "source": [
    "##### Looping a Dictionary"
   ]
  },
  {
   "cell_type": "code",
   "execution_count": null,
   "metadata": {},
   "outputs": [],
   "source": [
    "# .items()\n",
    "# a, b, c = 1, 2, 3\n",
    "# print(a)\n",
    "# print(b)\n",
    "# print(c)\n",
    "\n",
    "for key in d2.keys():\n",
    "    print(key)\n",
    "\n",
    "\n"
   ]
  },
  {
   "cell_type": "markdown",
   "metadata": {},
   "source": [
    "##### Looping Only Keys"
   ]
  },
  {
   "cell_type": "code",
   "execution_count": null,
   "metadata": {},
   "outputs": [],
   "source": [
    "# .keys()\n",
    "for key in d2.keys():\n",
    "    print(key)\n",
    "\n"
   ]
  },
  {
   "cell_type": "markdown",
   "metadata": {},
   "source": [
    "##### Looping Only Values"
   ]
  },
  {
   "cell_type": "code",
   "execution_count": null,
   "metadata": {},
   "outputs": [],
   "source": [
    "# .values()\n",
    "\n",
    "for value in d2.values():\n",
    "    print(value)\n",
    "\n",
    "\n"
   ]
  },
  {
   "cell_type": "markdown",
   "metadata": {},
   "source": [
    "## In-Class Exercise #2 - Create a Function that Prints All Key Value Pairs within a print .format() <br>\n",
    "<p><b>Output should be:</b><br>\n",
    "Max has blue eyes<br>\n",
    "Lilly has brown eyes<br>\n",
    "Barney has blue eyes<br>\n",
    "etc.\n",
    "</p>"
   ]
  },
  {
   "cell_type": "code",
   "execution_count": null,
   "metadata": {},
   "outputs": [],
   "source": [
    "# use the dict below\n",
    "\n",
    "people = {\n",
    "    'Max': 'blue',\n",
    "    'Lilly': 'brown',\n",
    "    'Barney': 'blue',\n",
    "    'Larney': 'brown',\n",
    "    'Ted': 'purple'\n",
    "}\n",
    "\n",
    "def printDict(people):\n",
    "    for key, value in people.items():\n",
    "        print(f\"{key} has {value} eyes\")\n",
    "\n",
    "\n",
    "printDict(people)"
   ]
  },
  {
   "cell_type": "markdown",
   "metadata": {},
   "source": [
    "##### sorted()"
   ]
  },
  {
   "cell_type": "code",
   "execution_count": null,
   "metadata": {},
   "outputs": [],
   "source": [
    "# sorts variables in order\n",
    "# sorted(dict.values()) or dict.keys() or dict.items() can't really sort dictionaries\n",
    "\n",
    "print(sorted(people.items()))\n",
    "print(sorted(people.values()))#can't really sort dictionaries"
   ]
  },
  {
   "cell_type": "markdown",
   "metadata": {},
   "source": [
    "##### List with Dictionaries"
   ]
  },
  {
   "cell_type": "code",
   "execution_count": null,
   "metadata": {},
   "outputs": [],
   "source": [
    "names = ['Dave','Randy', 'Greg',{\"random_guy\":\"Robert\", \"another_guy\":\"Travis\"}]\n",
    "names[3][\"another_guy\"] # have to access the key to return the value"
   ]
  },
  {
   "cell_type": "markdown",
   "metadata": {},
   "source": [
    "##### Dictionaries with Lists"
   ]
  },
  {
   "cell_type": "code",
   "execution_count": null,
   "metadata": {},
   "outputs": [],
   "source": [
    "# be careful when using numbers as keys in dictionaries, don't confuse them with indexes d2['dave']\n",
    "\n",
    "d2[0] ##THIS IS NOT AN INDEX - this is calling the value for the key Dave\n",
    "\n",
    "\n",
    "dict_2={ \n",
    "    'list1': [54,7,11],\n",
    "    '2': ['Smith']\n",
    "}\n",
    "\n",
    "dict_2['2'] #This returns the list smith\n",
    "dict_2['2'][0] # this gives you the list index[0] \n",
    "\n",
    "dict_2['random_key'] = [\"travelers Media\",\"Disney World\"]\n",
    "\n",
    "dict_2['list1']\n",
    "type(dict_2['list1']) # to confirm the type of key before you start working with \n"
   ]
  },
  {
   "cell_type": "markdown",
   "metadata": {},
   "source": [
    "##### Dictionaries with Dictionaries"
   ]
  },
  {
   "cell_type": "code",
   "execution_count": null,
   "metadata": {},
   "outputs": [],
   "source": [
    "# to get values, must traverse through keys API's ARE NESTED DICTIONARIES AND LISTS\n",
    "dict_4 ={\n",
    "    'ice_cream':{\n",
    "        'Cho':2.99,\n",
    "        'va': 3.99,\n",
    "        'oreo': 5.99\n",
    "    }\n",
    "}\n",
    "\n",
    "dict_4['ice_cream']['oreo']"
   ]
  },
  {
   "cell_type": "markdown",
   "metadata": {},
   "source": [
    "## Using Python's Hashing Function"
   ]
  },
  {
   "cell_type": "code",
   "execution_count": null,
   "metadata": {},
   "outputs": [],
   "source": [
    "# hash(var) Why we use dictionaries in other languades thsi sis a hash table\n",
    "# thsi siwhat goes on under the hood , we are concerned\n",
    "a = 'Bo'\n",
    "b = 'Bob'\n",
    "c = 'Bo'\n",
    "d = a\n",
    "\n",
    "\n",
    "print(hash(a))\n",
    "print(hash(b))\n",
    "print(hash(c))\n",
    "print(hash(d))\n",
    "\n",
    "help(hash)"
   ]
  },
  {
   "cell_type": "markdown",
   "metadata": {},
   "source": [
    "# Constant Time O(1)\n",
    "\n",
    "<img src=\"https://cooervo.github.io/Algorithms-DataStructures-BigONotation/images/graphs/constant.svg\">"
   ]
  },
  {
   "cell_type": "code",
   "execution_count": null,
   "metadata": {},
   "outputs": [],
   "source": [
    "#Example of Constant Time O(1)\n",
    "\n",
    "# This runtime will stay the same, no matter the amount of items  in the list the annswer is always the same\n",
    "#Big 0 notation\n",
    "\n",
    "def constant_algo(items):\n",
    "    result = items[2] * items[2]\n",
    "    print(result)\n",
    "    \n",
    "constant_algo ([4,5,6,7,8])\n"
   ]
  },
  {
   "cell_type": "markdown",
   "metadata": {},
   "source": [
    "# Big O Notation - Time & Space Complexity\n",
    "\n",
    "Big O Notation is the language we use when talking about how long an algorithm(function) takes to run.\n",
    "\n",
    "The most popular runtimes as explained in Big O Notation are (In Order of Speed): <br>\n",
    "\n",
    "| Name   |      Big O      |\n",
    "|----------|:-------------:|\n",
    "| Constant |  O(1) |\n",
    "| Logarithmic | O(log(n)) |\n",
    "| Linear |    O(n)   |\n",
    "|Linear-Logarithmic| O(nlog(n))|\n",
    "| Quadratic | O(n^2) |\n",
    "| Cubic | O(n^3) |\n",
    "| Exponential | O(2^n) |\n",
    "\n"
   ]
  },
  {
   "cell_type": "markdown",
   "metadata": {},
   "source": [
    "### In order to best explain Logorithmic time, it is best to use a popular algorithm called `Binary Search`.\n",
    "\n",
    "### Here's an example:\n",
    "<img src=\"https://www.geeksforgeeks.org/wp-content/uploads/Binary-Search.png\">\n",
    "\n",
    "### This algorithm essentially halves the input that it is given each time a cycle is made. Here's a close look at the code:"
   ]
  },
  {
   "cell_type": "code",
   "execution_count": null,
   "metadata": {},
   "outputs": [],
   "source": [
    "# Binary Search INTERVIEW QUESTION Walk through in pythontutor\n",
    "# basically halving the search area ech time through the loop\n",
    "# Logarithmic\n",
    "# The runtime is O(log(n)) | This is known as a divide and conquer\n",
    "#create a function to create the heavy lifting\n",
    "#Binary search function\n",
    "\n",
    "#THIS  WILL ONLY WORK IN A SORTED LIST\n",
    "\n",
    "#Looking for the index of the TARGET number\n",
    "def binarySearchHelperFunc(array,target,left,right):\n",
    "    while left <= right:\n",
    "        #so we can find a midpoint using Floor dividion in case of odd numbers\n",
    "        middle = (left + right) // 2\n",
    "        potentialMatch = array[middle]\n",
    "        if target == potentialMatch:\n",
    "            return f\"The index is {middle}\"\n",
    "        elif target < potentialMatch:\n",
    "            right = middle - 1\n",
    "        else:\n",
    "            left = middle + 1\n",
    "    return -1\n",
    "\n",
    "\n",
    "\n",
    "def binarySearch(array, target):              #left  right(because  of strting at index [0])\n",
    "    return binarySearchHelperFunc(array, target,0,len(array)-1)\n",
    "\n",
    "#Looking for the index of the TARGET number in this case target is 23\n",
    "binarySearch([2,5,8,12,23,38,56,72,91],23) \n",
    "\n",
    "#binarySearch([2,5,8,12,23,38,56,72,91],91)\n",
    "\n",
    "#if you put a number that is not in here, #Looking for the index of the TARGET number in this case target is 99\n",
    "#because  99 is not \n",
    "#binarySearch([2,5,8,12,23,38,56,72,91],99)\n"
   ]
  },
  {
   "cell_type": "markdown",
   "metadata": {},
   "source": [
    "### Here's another graph that shows the difference between Linear O(n) and Binary Search which is O(log(n)):\n",
    "\n",
    "<img src=\"data:image/png;base64,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\">"
   ]
  },
  {
   "cell_type": "code",
   "execution_count": null,
   "metadata": {},
   "outputs": [],
   "source": [
    "# Example of Linear Time: O(n) thsi would be 4 passes\n",
    "\n",
    "# This runtime will increase, as the number of items increasesthsi will always be slower \n",
    "def linear_algo(items):\n",
    "    for item in items:\n",
    "        print (item)\n",
    "\n",
    "linear_algo ([4,5,6,8])"
   ]
  },
  {
   "cell_type": "code",
   "execution_count": null,
   "metadata": {},
   "outputs": [],
   "source": [
    "# Example of Quadratic Time : O(n^2) - this takes 15 passes\n",
    "# A function is known as quadratic if it requires us to complete two nested loops\n",
    "# And iterate over items in the loop multiple times.\n",
    "\n",
    "def quadratic_algo(items):\n",
    "    for item in items:\n",
    "        for item2 in items:\n",
    "            print (item,\"\",item2)\n",
    "\n",
    "quadratic_algo([4,5,6,8])"
   ]
  },
  {
   "cell_type": "code",
   "execution_count": null,
   "metadata": {},
   "outputs": [],
   "source": []
  },
  {
   "cell_type": "markdown",
   "metadata": {},
   "source": [
    "## Dictionaries vs. Lists (over time) Example of RUNTIME\n",
    "### When inputting values in a Dictionary vs List"
   ]
  },
  {
   "cell_type": "code",
   "execution_count": null,
   "metadata": {},
   "outputs": [],
   "source": [
    "#Run this cell then the next cell\n",
    "\n",
    "import time\n",
    "\n",
    "\n",
    "# generate fake dictionary\n",
    "d = {}\n",
    "\n",
    "#dictionarys should be quicker because of keys - Dictionaries will uslauu improve algoritms perform better\n",
    "for i in range(10000000):\n",
    "    d[i] = 'value'\n",
    "    \n",
    "\n",
    "# generate fake list\n",
    "big_list = [x for x in range(10000000)]"
   ]
  },
  {
   "cell_type": "code",
   "execution_count": null,
   "metadata": {},
   "outputs": [],
   "source": [
    "# tracking time for dictionary\n",
    "start_time = time.time()\n",
    "\n",
    "print(d[9999999])\n",
    "\n",
    "end_time = time.time() - start_time\n",
    "\n",
    "print('Elapsed time for dictionary: {}'.format(end_time))\n",
    "\n",
    "\n",
    "# tracking time for list\n",
    "start_time = time.time()\n",
    "\n",
    "for i in range(len(big_list)):\n",
    "    if i == 9999999:\n",
    "        print(i)\n",
    "\n",
    "end_time = time.time() - start_time\n",
    "\n",
    "print('Elapsed time for list: {}'.format(end_time))"
   ]
  },
  {
   "cell_type": "markdown",
   "metadata": {},
   "source": [
    "## Exercise #3 - Write a Function that asks someone's name and address, and then stores that into a dictionary, and continues to do so until they choose to 'quit'. Once they quit, the program should print all names and addresses. <br>\n",
    "<p>\n",
    "<b>Proper steps:</b><br>\n",
    "step 1: write a function that takes in information and stores it in a dictionary<br>\n",
    "step 2: define an empty dictionary to work with<br>\n",
    "step 3: create our loop, which asks the user for information until they quit<br>\n",
    "step 4: ask for the information, and store it into variables<br>\n",
    "step 5: check if the user types quit<br>\n",
    "step 5a: print out all information<br>\n",
    "step 5b: break out of the loop<br>\n",
    "step 6: if they didn't quit, add the information to the dictionary<br>\n",
    "step 7: invoke the function by calling it\n",
    "</p>"
   ]
  },
  {
   "cell_type": "code",
   "execution_count": null,
   "metadata": {},
   "outputs": [],
   "source": [
    "from IPython.display import clear_output\n",
    "\n",
    "def buildDict():\n",
    "    \n",
    "    names = {}\n",
    "    #answer = 'true'\n",
    "    while True:        \n",
    "        name = input(\"Enter you name (quit to stop)\")\n",
    "        if name.lower() =='quit':          \n",
    "            break\n",
    "\n",
    "        address = input(\"Enter you address (quit to stop)\")\n",
    "        if address.lower() =='quit':           \n",
    "            break\n",
    "        names[name] = address\n",
    "        \n",
    "    print(names)\n",
    "    \n",
    "buildDict()\n",
    "        \n",
    "        \n"
   ]
  },
  {
   "cell_type": "markdown",
   "metadata": {},
   "source": [
    "## Set <br>\n",
    "<p>A Set is an unordered collection data type that is iterable (loop), mutable, and has no duplicate elements.<br>Major advantage is that it is highly optimized in checking if something is in the set, as opposed to checking if something is in a list.</p>"
   ]
  },
  {
   "cell_type": "markdown",
   "metadata": {},
   "source": [
    "##### Declaring"
   ]
  },
  {
   "cell_type": "code",
   "execution_count": null,
   "metadata": {},
   "outputs": [],
   "source": [
    "# set() or {}\n",
    "# no order {3, 2, 1} outputs as {1, 2, 3}\n",
    "\n",
    "set_a = {1, 2, 3}\n",
    "set_b = {3,2,1,5}\n",
    "\n",
    "set_c = set([3,4,1])\n"
   ]
  },
  {
   "cell_type": "markdown",
   "metadata": {},
   "source": [
    "##### .add()"
   ]
  },
  {
   "cell_type": "code",
   "execution_count": null,
   "metadata": {},
   "outputs": [],
   "source": [
    "# set.add()\n",
    "set_a.add(10)\n",
    "print(set_a)"
   ]
  },
  {
   "cell_type": "markdown",
   "metadata": {},
   "source": [
    "##### .remove()"
   ]
  },
  {
   "cell_type": "code",
   "execution_count": null,
   "metadata": {},
   "outputs": [],
   "source": [
    "# removes by value\n",
    "# set.remove()\n",
    "# nums.remove(56)\n",
    "\n",
    "set_b.remove(5)"
   ]
  },
  {
   "cell_type": "markdown",
   "metadata": {},
   "source": [
    "##### .union() "
   ]
  },
  {
   "cell_type": "code",
   "execution_count": null,
   "metadata": {},
   "outputs": [],
   "source": [
    "# Returns a union of two sets, can also use '|' or set.union(set)\n",
    "# joins all numbers, gets rid of duplicates\n",
    "\n",
    "set1 = {1,2,3,4}\n",
    "set2 = {3,4,5,6}\n",
    "\n",
    "set_3 = set1.union(set2)\n",
    "set4 = set1 | set2\n",
    " print set_3\n"
   ]
  },
  {
   "cell_type": "markdown",
   "metadata": {},
   "source": [
    "##### .intersection()"
   ]
  },
  {
   "cell_type": "code",
   "execution_count": null,
   "metadata": {},
   "outputs": [],
   "source": [
    "# Returns an intersection of two sets, can also use '&'\n",
    "# only takes similar elements from both sets\n",
    "\n",
    "set1 = {1,2,3,4}\n",
    "set2 = {3,4,5,6}\n",
    "\n",
    "set3 = set1.intersection(set2)\n",
    "set4 = set1 & set2\n",
    "print(set3)\n",
    "print(set4)\n",
    "\n",
    "\n",
    "\n"
   ]
  },
  {
   "cell_type": "markdown",
   "metadata": {},
   "source": [
    "##### .difference()"
   ]
  },
  {
   "cell_type": "code",
   "execution_count": null,
   "metadata": {},
   "outputs": [],
   "source": [
    "# Returns a set containing all the elements of invoking set that are not in the second set, can also use '-'\n",
    "# only takes values from the first set that are not in the second set\n",
    "# order matters\n",
    "\n",
    "\n",
    "set1 = {1,2,3,4}\n",
    "set2 = {3,4,5,6}\n",
    "set3 = set1.difference(set2)\n",
    "set4 = set1 - set2\n",
    "\n",
    "\n"
   ]
  },
  {
   "cell_type": "markdown",
   "metadata": {},
   "source": [
    "##### .clear()"
   ]
  },
  {
   "cell_type": "code",
   "execution_count": null,
   "metadata": {},
   "outputs": [],
   "source": [
    "# Empties the whole set\n",
    "# set.clear()\n",
    "\n",
    "set1 = {1,2,3,4}\n",
    "set2 = {3,4,5,6}\n",
    "\n",
    "print(set1)\n",
    "set1.clear()\n",
    "print(set1)\n"
   ]
  },
  {
   "cell_type": "markdown",
   "metadata": {},
   "source": [
    "##### Frozenset <br>\n",
    "<p>Frozen sets are immutable objects that only support methods and operators that produce a result without affecting the frozen set or sets to which they are applied.</p><br><b>Unique & Immutable</b>"
   ]
  },
  {
   "cell_type": "code",
   "execution_count": null,
   "metadata": {},
   "outputs": [],
   "source": [
    "# frozenset([]) sets in general you can't slice\n",
    "\n",
    "s3 = {1,2,3,4,5,6}\n",
    "\n",
    "my_frozen_set = frozenset(s3)\n",
    "print(my_frozen_set) # now like a tuple umnumtanle\n",
    "\n",
    "#can access that data but not\n",
    "for item in my_frozen_set:\n",
    "    if item == 4:\n",
    "        print(\"Found item in frozen set\")\n",
    "    else:\n",
    "        print(\"You can use 4\")\n",
    "    print(item)\n"
   ]
  },
  {
   "cell_type": "markdown",
   "metadata": {},
   "source": [
    "## Modules"
   ]
  },
  {
   "cell_type": "markdown",
   "metadata": {},
   "source": [
    "##### Importing Entire Modules"
   ]
  },
  {
   "cell_type": "code",
   "execution_count": null,
   "metadata": {},
   "outputs": [],
   "source": [
    "# import or from 'xxx' import *\n",
    "# import math\n",
    "\n",
    "import math  # python nows where this is , in is stored with the python install just\n",
    "            #a file with the class inside\n",
    "\n",
    "#find the pi constant known aS A CONSTANT ATTRIBUTE. EVERY TIME WE CEATE THE MATH MODULE WE GET PI\n",
    "#  \n",
    "#need to import modules because the people community that origianlly built python, thought that you might\n",
    "#not need to have the math makes the python install smaller.\n",
    "#Look at python math documentation Slows down python performance if you had all the modules\n",
    "\n",
    "print(math.pi)\n",
    "print(math.floor(math.pi))\n",
    "\n"
   ]
  },
  {
   "cell_type": "markdown",
   "metadata": {},
   "source": [
    "##### Importing Methods Only"
   ]
  },
  {
   "cell_type": "code",
   "execution_count": null,
   "metadata": {},
   "outputs": [],
   "source": [
    "# from 'xxx' import 'xxx'\n",
    "# from math import floor\n",
    " \n",
    "#instead of the whole math module thsi cahnges how you CALL the modules\n",
    "from math import floor,pi\n",
    "print(pi)\n",
    "print(floor(pi))\n"
   ]
  },
  {
   "cell_type": "markdown",
   "metadata": {},
   "source": [
    "##### Using the 'as' Keyword"
   ]
  },
  {
   "cell_type": "code",
   "execution_count": null,
   "metadata": {},
   "outputs": [],
   "source": [
    "# from 'xxx' import 'xxx' as 'xxx' or import 'xxx' as 'xxx'\n",
    "# from math import floor as f\n",
    "\n",
    "#can use an alias for an import\n",
    "from math \n"
   ]
  },
  {
   "cell_type": "markdown",
   "metadata": {},
   "source": [
    "##### Creating a Module"
   ]
  },
  {
   "cell_type": "code",
   "execution_count": null,
   "metadata": {},
   "outputs": [],
   "source": [
    "# two ways to call my_module IF YOU CHANGE ANYTHING IN MY_MODULE YOU NEED TO RESTART  (just restart)KERNAL\n",
    "#%run module. - the jupyter note book way to import\n",
    "\n",
    "from IPython.display import clear_output\n",
    "\n",
    "#import my_module\n",
    "from my_module import printName, addNum\n",
    "\n",
    "print(printName('Joel'))\n",
    "#clear_output() will just see the add addNum \n",
    "print(addNum(2,5))"
   ]
  },
  {
   "cell_type": "markdown",
   "metadata": {},
   "source": [
    "# Exercises"
   ]
  },
  {
   "cell_type": "markdown",
   "metadata": {},
   "source": [
    "### 1) Build a Shopping Cart <br>\n",
    "<p><b>You can use either lists or dictionaries. The program should have the following capabilities:</b><br><br>\n",
    "1) Takes in input <br>\n",
    "2) Stores user input into a dictionary or list <br>\n",
    "3) The User can add or delete items <br>\n",
    "4) The User can see current shopping list <br>\n",
    "5) The program Loops until user 'quits' <br>\n",
    "6) Upon quiting the program, print out all items in the user's list <br>\n",
    "</p>"
   ]
  },
  {
   "cell_type": "code",
   "execution_count": 2,
   "metadata": {},
   "outputs": [
    {
     "name": "stdout",
     "output_type": "stream",
     "text": [
      "\n",
      "Enter what you want to do. \n",
      "The choices are: \n",
      "Show / Add / Delete or Quit: add\n",
      "\n",
      "Enter item name: eggs\n",
      "\n",
      "Enter what you want to do. \n",
      "The choices are: \n",
      "Show / Add / Delete or Quit: add\n",
      "\n",
      "Enter item name: butter\n",
      "\n",
      "Enter what you want to do. \n",
      "The choices are: \n",
      "Show / Add / Delete or Quit: show\n",
      "\n",
      "\n",
      "['eggs', 'butter']\n",
      "\n",
      "Enter what you want to do. \n",
      "The choices are: \n",
      "Show / Add / Delete or Quit: delete\n",
      "\n",
      "Enter item name an that you want to delete from your cart (this deletes all occurences) butter\n",
      "\n",
      "Enter what you want to do. \n",
      "The choices are: \n",
      "Show / Add / Delete or Quit: show\n",
      "\n",
      "\n",
      "['eggs']\n",
      "\n",
      "Enter what you want to do. \n",
      "The choices are: \n",
      "Show / Add / Delete or Quit: quit\n"
     ]
    }
   ],
   "source": [
    "def shoppingCart():\n",
    "    items = [] \n",
    "         \n",
    "    while True:\n",
    "        print(\"\\nEnter what you want to do. \")\n",
    "        print(\"The choices are: \")\n",
    "        action = input(\"Show / Add / Delete or Quit: \")\n",
    "        if action.lower() == 'quit':\n",
    "            break      \n",
    "        elif (action.lower()).strip() == 'show':\n",
    "            if items ==[]:\n",
    "                print(\"\\nYour cart is empty\")\n",
    "            else: \n",
    "                print(\"\\n\")        \n",
    "                print(items)    \n",
    "        elif (action.lower()).strip() == 'add':\n",
    "            item_name = input('\\nEnter item name: ')\n",
    "            items.append(item_name)\n",
    "        elif (action.lower()).strip() == 'delete':\n",
    "            if items ==[]:\n",
    "                print(\"\\nYour cart is empty, there is nothing to delete\")\n",
    "                continue\n",
    "            else:\n",
    "                items_delete = input(\"\\nEnter item name an that you want to delete from your cart (this deletes all occurences) \")         \n",
    "                while items_delete in items:\n",
    "                    items.remove(items_delete)\n",
    "        else:\n",
    "            print('Your choice of what you wanted to do is not valid, please try again')\n",
    "            break\n",
    "\n",
    "shoppingCart()\n"
   ]
  },
  {
   "cell_type": "markdown",
   "metadata": {},
   "source": [
    "### 2) Create a Module in VS Code and Import It into jupyter notebook <br>\n",
    "<p><b>Module should have the following capabilities:</b><br><br>\n",
    "1) Has a function to calculate the square footage of a house <br>\n",
    "    <b>Reminder of Formula: Length X Width == Area<br>\n",
    "        <hr>\n",
    "2) Has a function to calculate the circumference of a circle <br><br>\n",
    "<b>Program in Jupyter Notebook should take in user input and use imported functions to calculate a circle's circumference or a houses square footage</b>\n",
    "</p>"
   ]
  },
  {
   "cell_type": "code",
   "execution_count": null,
   "metadata": {},
   "outputs": [],
   "source": [
    "from IPython.display import clear_output\n",
    "from math import pi as p\n",
    "from calculate import circumference, area\n",
    "\n",
    "def doCalculate():\n",
    "    clear_output()\n",
    "    try:\n",
    "            print(\"\\nPlease enter what kind of calculation you are looking for \")\n",
    "            calc_choice = input(\"Area or Circumference? \")\n",
    "            if (calc_choice.lower().rstrip()) == 'area':\n",
    "                length = float(input('Length: '))\n",
    "                width = float(input('Width:' )) \n",
    "                return area(length, width)\n",
    "            elif(calc_choice.lower().rstrip()) == 'circumference':\n",
    "                print(\"\\nWhat type of measurement do you have? \")\n",
    "                type = input(\"Radius or Diameter? \")\n",
    "                if (type.lower().rstrip()) == 'radius':\n",
    "                    radius = float(input('Radius: '))\n",
    "                    return circumference(radius)\n",
    "                else:\n",
    "                    diameter = float(input('Diameter: '))\n",
    "                    return circumference(0, diameter)\n",
    "            else: \n",
    "                print ('\\nSorry your choice above was not valid')\n",
    "    except:\n",
    "            print (\"ERROR - please check that you measurement entries are numeric\")\n",
    "        \n",
    "print(doCalculate())\n",
    "\n"
   ]
  }
 ],
 "metadata": {
  "kernelspec": {
   "display_name": "Python 3",
   "language": "python",
   "name": "python3"
  },
  "language_info": {
   "codemirror_mode": {
    "name": "ipython",
    "version": 3
   },
   "file_extension": ".py",
   "mimetype": "text/x-python",
   "name": "python",
   "nbconvert_exporter": "python",
   "pygments_lexer": "ipython3",
   "version": "3.7.6"
  }
 },
 "nbformat": 4,
 "nbformat_minor": 2
}
